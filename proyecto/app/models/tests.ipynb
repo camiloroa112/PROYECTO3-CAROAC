{
 "cells": [
  {
   "cell_type": "code",
   "execution_count": 5,
   "metadata": {},
   "outputs": [
    {
     "name": "stdout",
     "output_type": "stream",
     "text": [
      "True\n",
      "True\n",
      "True\n",
      "True\n",
      "True\n",
      "True\n",
      "True\n",
      "True\n"
     ]
    }
   ],
   "source": [
    "# 1st Party Libraries\n",
    "from base import Base\n",
    "from copa import Copa\n",
    "from malteada import Malteada\n",
    "from heladeria import Heladeria\n",
    "from complemento import Complemento\n",
    "from funciones import es_sano, calorias\n",
    "\n",
    "# Bases y Complementos\n",
    "complemento_mani = Complemento(precio = 1100, calorias = 80, nombre = \"Maní\", es_vegetariano = True, inventario = 20)\n",
    "base_fresa = Base(precio = 2500, calorias = 150, nombre = \"Base de Fresa\", es_vegetariano = True, sabor = \"Fresa\", inventario = 10)\n",
    "complemento_chocolate = Complemento(precio = 2200, calorias = 50, nombre = \"Chispas de Chocolate\", es_vegetariano = True, inventario = 5)\n",
    "\n",
    "# Productos con copa y malteada\n",
    "copa_fresa = Copa(nombre = \"Copa Fresa\", precio_publico = 15200, ingrediente_1 = base_fresa, ingrediente_2 = complemento_chocolate, ingrediente_3 = complemento_mani, tipo_vaso = \"Mediano\")\n",
    "malteada_chocolate = Malteada(nombre = \"Malteada Chocolate\", precio_publico = 20000, ingrediente_1 = base_fresa, ingrediente_2 = complemento_chocolate, ingrediente_3 = complemento_mani, volumen = \"500ml\")\n",
    "\n",
    "# Listado de productos\n",
    "productos = [copa_fresa, malteada_chocolate]\n",
    "\n",
    "# Instanciar heladería con productos seleccionados\n",
    "heladeria = Heladeria(productos)\n",
    "\n",
    "# 1. Verificación de si un ingrediente es sano\n",
    "print(es_sano(150, True) == True)\n",
    "\n",
    "# 2. Verificación de calorías de una copa\n",
    "print(calorias([150, 50, 80]) == 266.0)\n",
    "\n",
    "# 3. Calculo el costo de un producto\n",
    "print(copa_fresa.calcular_costo() == 5800)\n",
    "\n",
    "# 4. Calculo de la rentabilidad de una malteada\n",
    "print(malteada_chocolate.calcular_rentabilidad() == 14200)  # Debería devolver la rentabilidad de la malteada\n",
    "\n",
    "# 5. Verificación de la rentabilidad de los productos disponibles\n",
    "print(heladeria.producto_mas_rentable() == 'Malteada Chocolate')\n",
    "\n",
    "# 6. Probar la función de venta\n",
    "print(heladeria.vender(\"Malteada Chocolate\") == True)\n",
    "\n",
    "# 7. Calcular calorías copa fresa\n",
    "print(malteada_chocolate.calcular_calorias() == 480.0)\n",
    "\n",
    "# 8. Calcular calorias malteada\n",
    "print(copa_fresa.calcular_calorias() == 252.7)"
   ]
  }
 ],
 "metadata": {
  "kernelspec": {
   "display_name": "Python 3",
   "language": "python",
   "name": "python3"
  },
  "language_info": {
   "codemirror_mode": {
    "name": "ipython",
    "version": 3
   },
   "file_extension": ".py",
   "mimetype": "text/x-python",
   "name": "python",
   "nbconvert_exporter": "python",
   "pygments_lexer": "ipython3",
   "version": "3.12.2"
  }
 },
 "nbformat": 4,
 "nbformat_minor": 2
}
